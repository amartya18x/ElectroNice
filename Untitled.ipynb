{
 "cells": [
  {
   "cell_type": "code",
   "execution_count": 1,
   "metadata": {
    "collapsed": true
   },
   "outputs": [],
   "source": [
    "import theano\n",
    "import theano.tensor as T\n",
    "import numpy as np\n",
    "from model import NiceACDC\n",
    "import cPickle\n",
    "import gzip\n",
    "import os\n",
    "import sys\n",
    "import timeit\n",
    "inp = T.matrix(\"inp\")\n",
    "n_in = 784\n",
    "lr = theano.shared(0.0001)\n",
    "theano.config.floatX = 'float32'\n",
    "\n"
   ]
  },
  {
   "cell_type": "code",
   "execution_count": 2,
   "metadata": {
    "collapsed": true
   },
   "outputs": [],
   "source": [
    "\n",
    "\n",
    "dataset='mnist.pkl.gz'\n",
    "f = gzip.open(dataset, 'rb')\n",
    "train_set, valid_set, test_set = cPickle.load(f)\n",
    "f.close()"
   ]
  },
  {
   "cell_type": "code",
   "execution_count": 3,
   "metadata": {
    "collapsed": false
   },
   "outputs": [
    {
     "name": "stdout",
     "output_type": "stream",
     "text": [
      "... building the model\n",
      "Created model\n",
      "Obtained Grads\n",
      "Created updates\n"
     ]
    }
   ],
   "source": [
    "    learning_rate=0.13\n",
    "    n_epochs=1000\n",
    "    dataset='mnist.pkl.gz'\n",
    "\n",
    "    \n",
    "    ######################\n",
    "    # BUILD ACTUAL MODEL #\n",
    "    ######################\n",
    "    print '... building the model'\n",
    "\n",
    "    # allocate symbolic variables for the data\n",
    "    index = T.lscalar()  # index to a [mini]batch\n",
    "    x = T.matrix('x')\n",
    "    # generate symbolic variables for input (x and y represent a\n",
    "    # minibatch)\n",
    "    # construct the logistic regression class\n",
    "    # Each MNIST image has size 28*28\n",
    "    ANice = NiceACDC(input = x, n_in = n_in)\n",
    "    print \"Created model\"\n",
    "    llh = ANice.cost\n",
    "    output = ANice.output\n",
    "    NiceParam  = ANice.params\n",
    "    grads = ANice.grad\n",
    "    update = []\n",
    "    print \"Obtained Grads\"\n",
    "    for param,grad in zip(NiceParam,grads):\n",
    "        update.append((param,param+grad*lr))\n",
    "\n",
    "    print \"Created updates\""
   ]
  },
  {
   "cell_type": "code",
   "execution_count": 4,
   "metadata": {
    "collapsed": false
   },
   "outputs": [],
   "source": [
    "\n",
    "train_model = theano.function(\n",
    "        inputs=[x],\n",
    "        outputs=[ANice.newLogDet,ANice.prior,ANice.cost],\n",
    "    updates=update\n",
    "        )"
   ]
  },
  {
   "cell_type": "code",
   "execution_count": 5,
   "metadata": {
    "collapsed": false
   },
   "outputs": [],
   "source": [
    "train_set_x, train_set_y = train_set\n",
    "p = len(train_set_x)\n",
    "batch_size = 100\n",
    "n_batches = p/batch_size"
   ]
  },
  {
   "cell_type": "code",
   "execution_count": null,
   "metadata": {
    "collapsed": false
   },
   "outputs": [
    {
     "name": "stdout",
     "output_type": "stream",
     "text": [
      "[array(-2171.2011366692063), array(-1086.963544068323), array(-3258.164680737529)]\n",
      "[array(-2158.1926448421673), array(-1086.964521351129), array(-3245.1571661932962)]\n",
      "[array(-2147.934525579861), array(-1087.2369803375261), array(-3235.171505917387)]\n",
      "[array(-2133.047874383805), array(-1086.9701560873627), array(-3220.018030471167)]\n",
      "[array(-2121.173400400955), array(-1086.9502757096986), array(-3208.1236761106534)]\n",
      "[array(-2108.708909809156), array(-1086.937851770623), array(-3195.6467615797787)]\n",
      "[array(-2096.782124468798), array(-1086.942280958185), array(-3183.724405426983)]\n",
      "[array(-2085.0872722772883), array(-1086.9455449796617), array(-3172.0328172569502)]\n",
      "[array(-2074.178339817374), array(-1086.9640479041086), array(-3161.142387721483)]\n",
      "[array(-2062.2632652189764), array(-1086.966304853881), array(-3149.2295700728578)]\n",
      "[array(-2050.405770117062), array(-1086.9662023344515), array(-3137.371972451513)]\n",
      "[array(-2039.252526065176), array(-1086.986694065785), array(-3126.239220130961)]\n",
      "[array(-2027.9295175491554), array(-1086.9906084110967), array(-3114.920125960253)]\n",
      "[array(-2016.8560576574503), array(-1086.9914858524332), array(-3103.8475435098835)]\n",
      "[array(-2007.1959063485729), array(-1086.956343135779), array(-3094.152249484352)]\n",
      "[array(-1996.279288129181), array(-1086.9664279878077), array(-3083.2457161169887)]\n",
      "[array(-1984.7333131490393), array(-1086.9333383152182), array(-3071.6666514642575)]\n",
      "[array(-1973.8905603156543), array(-1086.9317974385174), array(-3060.8223577541717)]\n",
      "[array(-1963.2715309979671), array(-1086.929015877937), array(-3050.200546875904)]\n",
      "[array(-1953.184522525448), array(-1086.9541410287773), array(-3040.138663554225)]\n",
      "[array(-1943.0899606759415), array(-1086.9652646423556), array(-3030.0552253182964)]\n",
      "[array(-1933.034626391611), array(-1086.9684457710784), array(-3020.0030721626895)]\n",
      "[array(-1923.2295867218832), array(-1086.9744732842705), array(-3010.2040600061537)]\n",
      "[array(-1913.2055754757919), array(-1086.972196721322), array(-3000.1777721971143)]\n",
      "[array(-1903.2150676530125), array(-1086.9874206909217), array(-2990.202488343935)]\n",
      "[array(-1893.5215053479726), array(-1086.9373965496422), array(-2980.458901897615)]\n",
      "[array(-1884.247167118672), array(-1086.956971297308), array(-2971.20413841598)]\n",
      "[array(-1875.2734966118715), array(-1087.0338038208629), array(-2962.307300432735)]\n",
      "[array(-1864.9386474854662), array(-1086.9841192479855), array(-2951.9227667334517)]\n",
      "[array(-1856.4620981693854), array(-1086.9824477317666), array(-2943.444545901152)]\n",
      "[array(-1847.0023118652882), array(-1086.942733613145), array(-2933.9450454784337)]\n",
      "[array(-1838.047801204562), array(-1086.947845094564), array(-2924.9956462991254)]\n",
      "[array(-1829.11025682654), array(-1086.9545898947972), array(-2916.0648467213377)]\n",
      "[array(-1812.5039942963124), array(-1087.0645484037236), array(-2899.5685427000362)]\n",
      "[array(-1810.206023276958), array(-1087.0103211677215), array(-2897.216344444679)]\n",
      "[array(-1802.4925739373589), array(-1087.0018651658597), array(-2889.4944391032186)]\n",
      "[array(-1793.2691654238267), array(-1086.9477023038974), array(-2880.216867727724)]\n",
      "[array(-1784.8555408496475), array(-1086.9530880642558), array(-2871.8086289139037)]\n",
      "[array(-1776.628197931739), array(-1086.9603178299074), array(-2863.5885157616462)]\n",
      "[array(-1768.337458743423), array(-1086.9608125341872), array(-2855.29827127761)]\n",
      "[array(-1759.9592851670934), array(-1086.950984781084), array(-2846.9102699481773)]\n",
      "[array(-1752.1435555340797), array(-1086.964134293866), array(-2839.1076898279466)]\n",
      "[array(-1743.9695159396351), array(-1086.9634144643946), array(-2830.93293040403)]\n",
      "[array(-1735.9931558455148), array(-1086.9637319209403), array(-2822.956887766454)]\n",
      "[array(-1727.8322634695744), array(-1086.9489853787109), array(-2814.781248848285)]\n",
      "[array(-1720.1497301051404), array(-1086.956981296941), array(-2807.106711402082)]\n",
      "[array(-1712.3029024035238), array(-1086.9562325629784), array(-2799.2591349665017)]\n",
      "[array(-1704.6528159168788), array(-1086.9592193572141), array(-2791.6120352740927)]\n",
      "[array(-1696.9972820770254), array(-1086.9573768754458), array(-2783.9546589524707)]\n",
      "[array(-1689.5216882591028), array(-1086.9724402742986), array(-2776.4941285334016)]\n",
      "[array(-1682.3149179476106), array(-1087.0190709061512), array(-2769.3339888537625)]\n",
      "[array(-1674.6983696474986), array(-1087.0042938026354), array(-2761.7026634501344)]\n",
      "[array(-1667.1417207835611), array(-1086.9985087208581), array(-2754.140229504419)]\n",
      "[array(-1659.9389823529182), array(-1086.9989210785025), array(-2746.9379034314206)]\n",
      "[array(-1652.9080035476281), array(-1087.00566163568), array(-2739.9136651833087)]\n",
      "[array(-1645.738739985168), array(-1087.004931735623), array(-2732.743671720792)]\n",
      "[array(-1638.58219697126), array(-1087.0013245346024), array(-2725.5835215058623)]\n",
      "[array(-1631.5623997388682), array(-1087.0015600982956), array(-2718.563959837164)]\n",
      "[array(-1624.6741240591311), array(-1087.0043861766817), array(-2711.6785102358117)]\n",
      "[array(-1618.1968488481743), array(-1087.0068282849957), array(-2705.2036771331705)]\n",
      "[array(-1610.6899353134575), array(-1086.9521342381163), array(-2697.6420695515735)]\n",
      "[array(-1604.0565670830192), array(-1086.976606444683), array(-2691.0331735277027)]\n",
      "[array(-1597.164604530866), array(-1086.9798756851571), array(-2684.1444802160227)]\n",
      "[array(-1590.4805683172722), array(-1086.9826899914206), array(-2677.4632583086927)]\n",
      "[array(-1583.763493338166), array(-1086.9721932540851), array(-2670.735686592251)]\n",
      "[array(-1577.0898572558183), array(-1086.9654831549499), array(-2664.0553404107677)]\n",
      "[array(-1570.4956496920431), array(-1086.9644026043907), array(-2657.4600522964342)]\n",
      "[array(-1565.5755858194589), array(-1087.648092461207), array(-2653.223678280666)]\n",
      "[array(-1556.56350547602), array(-1087.0080350440203), array(-2643.57154052004)]\n",
      "[array(-1550.9042122767803), array(-1087.0034151355057), array(-2637.9076274122863)]\n",
      "[array(-1546.062634424156), array(-1087.2090747856716), array(-2633.271709209828)]\n",
      "[array(-1538.763056017991), array(-1087.0168801494392), array(-2625.77993616743)]\n",
      "[array(-1534.001881338523), array(-1086.9385921733628), array(-2620.9404735118856)]\n",
      "[array(-1527.2899755093852), array(-1087.0008380188292), array(-2614.290813528215)]\n",
      "[array(-1520.5198764018462), array(-1087.0032202027796), array(-2607.523096604626)]\n",
      "[array(-1516.2019791051937), array(-1087.1751794520935), array(-2603.377158557287)]\n",
      "[array(-1508.4994505052925), array(-1087.0242420906625), array(-2595.5236925959557)]\n",
      "[array(-1503.2491575058532), array(-1087.0574714211998), array(-2590.306628927053)]\n",
      "[array(-1496.634509555076), array(-1087.0864859329565), array(-2583.7209954880323)]"
     ]
    }
   ],
   "source": [
    "for s in range(5,200000):\n",
    "    batch_index = s%(n_batches-1)\n",
    "    a= train_set_x[batch_index*batch_size:(batch_index+1)*batch_size]\n",
    "    b = (a/784)\n",
    "    cost =  train_model(b)\n",
    "    if s%50 == 0:\n",
    "        print cost\n",
    "        with open('best_model.pkl', 'w') as f:\n",
    "                        cPickle.dump(ANice.params, f)\n"
   ]
  },
  {
   "cell_type": "code",
   "execution_count": null,
   "metadata": {
    "collapsed": false
   },
   "outputs": [],
   "source": [
    "f = open('best_model.pkl')\n",
    "param = cPickle.load(f)\n",
    "param\n",
    "f.close()"
   ]
  },
  {
   "cell_type": "code",
   "execution_count": null,
   "metadata": {
    "collapsed": true
   },
   "outputs": [],
   "source": [
    "\n",
    "sample_model = theano.function(\n",
    "        inputs=[x],\n",
    "        outputs=[ANice.layer10.output]\n",
    "        )"
   ]
  },
  {
   "cell_type": "code",
   "execution_count": null,
   "metadata": {
    "collapsed": false
   },
   "outputs": [],
   "source": [
    "import matplotlib.pyplot as plt\n",
    "%matplotlib inline\n",
    "samp = np.random.logistic(size=(1,784)).astype('float32')\n",
    "gene = np.asarray(sample_model(samp)).reshape(28,28)\n",
    "imgplot = plt.imshow(gene*255,cmap='Greys')\n",
    "print ANice.layer1.Ky.eval()"
   ]
  },
  {
   "cell_type": "code",
   "execution_count": null,
   "metadata": {
    "collapsed": false
   },
   "outputs": [],
   "source": [
    "a= train_set_x[1]\n",
    "b = (a*2)-1\n",
    "d,e = train_model(b)\n",
    "print d,e"
   ]
  },
  {
   "cell_type": "code",
   "execution_count": null,
   "metadata": {
    "collapsed": false
   },
   "outputs": [],
   "source": [
    "print T.mean(ANice.layer1.A).eval()\n",
    "print T.mean(ANice.layer1.A).eval()\n",
    "print T.min(ANice.layer1.A).eval()\n",
    "print T.min(T.tanh(ANice.layer1.A)).eval()\n",
    "print T.max(T.nnet.sigmoid(ANice.layer1.A)).eval()\n",
    "print T.max(T.tanh(ANice.layer1.A)).eval()"
   ]
  },
  {
   "cell_type": "code",
   "execution_count": null,
   "metadata": {
    "collapsed": false
   },
   "outputs": [],
   "source": [
    "\n"
   ]
  },
  {
   "cell_type": "code",
   "execution_count": null,
   "metadata": {
    "collapsed": true
   },
   "outputs": [],
   "source": []
  }
 ],
 "metadata": {
  "kernelspec": {
   "display_name": "Python 2",
   "language": "python",
   "name": "python2"
  },
  "language_info": {
   "codemirror_mode": {
    "name": "ipython",
    "version": 2
   },
   "file_extension": ".py",
   "mimetype": "text/x-python",
   "name": "python",
   "nbconvert_exporter": "python",
   "pygments_lexer": "ipython2",
   "version": "2.7.11"
  }
 },
 "nbformat": 4,
 "nbformat_minor": 0
}
