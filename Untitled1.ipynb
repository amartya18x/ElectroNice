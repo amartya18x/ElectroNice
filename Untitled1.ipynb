{
 "cells": [
  {
   "cell_type": "code",
   "execution_count": 3,
   "metadata": {
    "collapsed": false
   },
   "outputs": [
    {
     "name": "stdout",
     "output_type": "stream",
     "text": [
      "... building the model\n",
      "Created model\n",
      "Obtained Grads\n",
      "Created updates\n"
     ]
    }
   ],
   "source": [
    "import theano\n",
    "import theano.tensor as T\n",
    "import numpy as np\n",
    "from model import NiceACDC\n",
    "import cPickle\n",
    "import gzip\n",
    "import os\n",
    "import sys\n",
    "import timeit\n",
    "inp = T.matrix(\"inp\")\n",
    "n_in = 784\n",
    "lr = theano.shared(0.0001)\n",
    "theano.config.floatX = 'float32'\n",
    "\n",
    "dataset='mnist.pkl.gz'\n",
    "f = gzip.open(dataset, 'rb')\n",
    "train_set, valid_set, test_set = cPickle.load(f)\n",
    "f.close()\n",
    "print '... building the model'\n",
    "x = T.matrix('x')\n",
    "ANice = NiceACDC(input = x, n_in = n_in)\n",
    "print \"Created model\"\n",
    "llh = ANice.cost\n",
    "output = ANice.output\n",
    "update = ANice.updates\n",
    "print \"Obtained Grads\"\n",
    "print \"Created updates\"\n",
    "\n",
    "train_model = theano.function(\n",
    "        inputs=[x],\n",
    "        outputs=[ANice.newLogDet,ANice.prior,ANice.cost,ANice.layer1.activD],\n",
    "    updates=update\n",
    "        )\n",
    "train_set_x, train_set_y = train_set\n",
    "p = len(train_set_x)\n",
    "batch_size = 100\n",
    "n_batches = p/batch_size\n",
    "s = -1\n",
    "llh = -np.inf\n"
   ]
  },
  {
   "cell_type": "code",
   "execution_count": null,
   "metadata": {
    "collapsed": true
   },
   "outputs": [],
   "source": [
    "while llh<10000:\n",
    "    s += 1\n",
    "    batch_index = s%(n_batches-1)\n",
    "    a= train_set_x[batch_index*batch_size:(batch_index+1)*batch_size]\n",
    "    b = (a/784)\n",
    "    cost =  train_model(b)\n",
    "    llh = cost[2]\n",
    "    if s% 1== 0:\n",
    "        print cost\n",
    "        with open('best_model.pkl', 'w') as f:\n",
    "                        cPickle.dump(ANice.params, f)\n"
   ]
  },
  {
   "cell_type": "code",
   "execution_count": null,
   "metadata": {
    "collapsed": true
   },
   "outputs": [],
   "source": []
  }
 ],
 "metadata": {
  "kernelspec": {
   "display_name": "Python 2",
   "language": "python",
   "name": "python2"
  },
  "language_info": {
   "codemirror_mode": {
    "name": "ipython",
    "version": 2
   },
   "file_extension": ".py",
   "mimetype": "text/x-python",
   "name": "python",
   "nbconvert_exporter": "python",
   "pygments_lexer": "ipython2",
   "version": "2.7.11"
  }
 },
 "nbformat": 4,
 "nbformat_minor": 0
}
