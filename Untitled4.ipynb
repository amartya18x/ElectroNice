{
 "cells": [
  {
   "cell_type": "code",
   "execution_count": 1,
   "metadata": {
    "collapsed": false
   },
   "outputs": [
    {
     "name": "stdout",
     "output_type": "stream",
     "text": [
      "22\n"
     ]
    }
   ],
   "source": [
    "import theano\n",
    "import theano.tensor as T\n",
    "import numpy as np\n",
    "from model_s import Sampler as ss\n",
    "from model import Sampler as sm\n",
    "import cPickle\n",
    "import gzip\n",
    "import os\n",
    "import sys\n",
    "import timeit\n",
    "inp = T.matrix(\"inp\")\n",
    "n_in = 784\n",
    "num_layer = 5\n",
    "theano.config.floatX = 'float32'\n",
    "\n",
    "f = open('best_model.pkl')\n",
    "param = cPickle.load(f)\n",
    "f.close()\n",
    "print len(param)\n",
    "samplers = ss(inp,n_in,param,num_layer=5)\n",
    "samplerm = sm(inp,n_in,param)\n",
    "sample_models = theano.function(\n",
    "        inputs=[inp],\n",
    "        outputs=[samplers.layers_dec[2].inp]\n",
    "        )\n",
    "sample_modelm = theano.function(\n",
    "        inputs=[inp],\n",
    "        outputs=[samplerm.layer8.inp]\n",
    "        )\n",
    "import matplotlib.pyplot as plt\n",
    "#%matplotlib inline\n",
    "samp = np.random.logistic(size=(1,784)).astype('float32')\n",
    "#samples = np.random.uniform(size=(1,784)).astype('float32')\n",
    "#samp = - np.log(1+np.exp(samples)) - np.log(1+np.exp(-samples))\n",
    "genes = np.asarray(sample_models(samp)).reshape(28,28)\n",
    "genem = np.asarray(sample_modelm(samp)).reshape(28,28)\n",
    "\n"
   ]
  },
  {
   "cell_type": "code",
   "execution_count": 4,
   "metadata": {
    "collapsed": false
   },
   "outputs": [
    {
     "name": "stdout",
     "output_type": "stream",
     "text": [
      "0.0\n",
      "0.0\n"
     ]
    }
   ],
   "source": [
    "print np.sum(genes-genem)\n",
    "print  np.sum(samplers.layers_dec[3].D.eval()-samplerm.layer9.D.eval())\n",
    "#print genes,genem"
   ]
  },
  {
   "cell_type": "code",
   "execution_count": null,
   "metadata": {
    "collapsed": true
   },
   "outputs": [],
   "source": [
    "print (genes+1)*0.5\n",
    "print (genem+1*0.5)\n",
    "\n",
    "plt.imshow(0.5*(genes+1)*255,cmap='Greys')\n",
    "plt.show()\n",
    "\n",
    "plt.imshow(0.5*(genem+1)*255,cmap='Greys')\n",
    "plt.show()"
   ]
  }
 ],
 "metadata": {
  "kernelspec": {
   "display_name": "Python 2",
   "language": "python",
   "name": "python2"
  },
  "language_info": {
   "codemirror_mode": {
    "name": "ipython",
    "version": 2
   },
   "file_extension": ".py",
   "mimetype": "text/x-python",
   "name": "python",
   "nbconvert_exporter": "python",
   "pygments_lexer": "ipython2",
   "version": "2.7.11"
  }
 },
 "nbformat": 4,
 "nbformat_minor": 0
}
