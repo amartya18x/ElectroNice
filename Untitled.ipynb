{
 "cells": [
  {
   "cell_type": "code",
   "execution_count": null,
   "metadata": {
    "collapsed": true
   },
   "outputs": [],
   "source": [
    "import theano\n",
    "import theano.tensor as T\n",
    "import numpy as np\n",
    "from model import NiceACDC\n",
    "import cPickle\n",
    "import gzip\n",
    "import os\n",
    "import sys\n",
    "import timeit\n",
    "inp = T.matrix(\"inp\")\n",
    "n_in = 784\n",
    "lr = theano.shared(0.0001)\n",
    "theano.config.floatX = 'float32'\n",
    "\n"
   ]
  },
  {
   "cell_type": "code",
   "execution_count": null,
   "metadata": {
    "collapsed": true
   },
   "outputs": [],
   "source": [
    "\n",
    "\n",
    "dataset='mnist.pkl.gz'\n",
    "f = gzip.open(dataset, 'rb')\n",
    "train_set, valid_set, test_set = cPickle.load(f)\n",
    "f.close()"
   ]
  },
  {
   "cell_type": "code",
   "execution_count": null,
   "metadata": {
    "collapsed": false
   },
   "outputs": [],
   "source": [
    "    learning_rate=0.13\n",
    "    n_epochs=1000\n",
    "    dataset='mnist.pkl.gz'\n",
    "\n",
    "    \n",
    "    ######################\n",
    "    # BUILD ACTUAL MODEL #\n",
    "    ######################\n",
    "    print '... building the model'\n",
    "\n",
    "    # allocate symbolic variables for the data\n",
    "    index = T.lscalar()  # index to a [mini]batch\n",
    "    x = T.matrix('x')\n",
    "    # generate symbolic variables for input (x and y represent a\n",
    "    # minibatch)\n",
    "    # construct the logistic regression class\n",
    "    # Each MNIST image has size 28*28\n",
    "    ANice = NiceACDC(input = x, n_in = n_in)\n",
    "    print \"Created model\"\n",
    "    llh = ANice.cost\n",
    "    output = ANice.output\n",
    "    NiceParam  = ANice.params\n",
    "    grads = ANice.grad\n",
    "    update = []\n",
    "    print \"Obtained Grads\"\n",
    "    for param,grad in zip(NiceParam,grads):\n",
    "        update.append((param,param+grad*lr))\n",
    "\n",
    "    print \"Created updates\""
   ]
  },
  {
   "cell_type": "code",
   "execution_count": null,
   "metadata": {
    "collapsed": false
   },
   "outputs": [],
   "source": [
    "\n",
    "train_model = theano.function(\n",
    "        inputs=[x],\n",
    "        outputs=[ANice.newLogDet,ANice.prior,ANice.cost],\n",
    "    updates=update\n",
    "        )"
   ]
  },
  {
   "cell_type": "code",
   "execution_count": null,
   "metadata": {
    "collapsed": false
   },
   "outputs": [],
   "source": [
    "train_set_x, train_set_y = train_set\n",
    "p = len(train_set_x)\n",
    "batch_size = 100\n",
    "n_batches = p/batch_size"
   ]
  },
  {
   "cell_type": "code",
   "execution_count": null,
   "metadata": {
    "collapsed": false
   },
   "outputs": [],
   "source": [
    "for s in range(5,200000):\n",
    "    batch_index = s%(n_batches-1)\n",
    "    a= train_set_x[batch_index*batch_size:(batch_index+1)*batch_size]\n",
    "    b = (a/784)\n",
    "    cost =  train_model(b)\n",
    "    if s%50 == 0:\n",
    "        print cost\n",
    "        with open('best_model.pkl', 'w') as f:\n",
    "                        cPickle.dump(ANice.params, f)\n"
   ]
  },
  {
   "cell_type": "code",
   "execution_count": null,
   "metadata": {
    "collapsed": false
   },
   "outputs": [],
   "source": [
    "f = open('best_model.pkl')\n",
    "param = cPickle.load(f)\n",
    "param\n",
    "f.close()"
   ]
  },
  {
   "cell_type": "code",
   "execution_count": null,
   "metadata": {
    "collapsed": true
   },
   "outputs": [],
   "source": [
    "\n",
    "sample_model = theano.function(\n",
    "        inputs=[x],\n",
    "        outputs=[ANice.layer10.output]\n",
    "        )"
   ]
  },
  {
   "cell_type": "code",
   "execution_count": null,
   "metadata": {
    "collapsed": false
   },
   "outputs": [],
   "source": [
    "import matplotlib.pyplot as plt\n",
    "%matplotlib inline\n",
    "samp = np.random.logistic(size=(1,784)).astype('float32')\n",
    "gene = np.asarray(sample_model(samp)).reshape(28,28)\n",
    "imgplot = plt.imshow(gene*255,cmap='Greys')\n",
    "print ANice.layer1.Ky.eval()"
   ]
  },
  {
   "cell_type": "code",
   "execution_count": null,
   "metadata": {
    "collapsed": false
   },
   "outputs": [],
   "source": [
    "a= train_set_x[1]\n",
    "b = (a*2)-1\n",
    "d,e = train_model(b)\n",
    "print d,e"
   ]
  },
  {
   "cell_type": "code",
   "execution_count": null,
   "metadata": {
    "collapsed": false
   },
   "outputs": [],
   "source": [
    "print T.mean(ANice.layer1.A).eval()\n",
    "print T.mean(ANice.layer1.A).eval()\n",
    "print T.min(ANice.layer1.A).eval()\n",
    "print T.min(T.tanh(ANice.layer1.A)).eval()\n",
    "print T.max(T.nnet.sigmoid(ANice.layer1.A)).eval()\n",
    "print T.max(T.tanh(ANice.layer1.A)).eval()"
   ]
  },
  {
   "cell_type": "code",
   "execution_count": null,
   "metadata": {
    "collapsed": false
   },
   "outputs": [],
   "source": [
    "\n"
   ]
  },
  {
   "cell_type": "code",
   "execution_count": null,
   "metadata": {
    "collapsed": true
   },
   "outputs": [],
   "source": []
  }
 ],
 "metadata": {
  "kernelspec": {
   "display_name": "Python 2",
   "language": "python",
   "name": "python2"
  },
  "language_info": {
   "codemirror_mode": {
    "name": "ipython",
    "version": 2
   },
   "file_extension": ".py",
   "mimetype": "text/x-python",
   "name": "python",
   "nbconvert_exporter": "python",
   "pygments_lexer": "ipython2",
   "version": "2.7.11"
  }
 },
 "nbformat": 4,
 "nbformat_minor": 0
}
