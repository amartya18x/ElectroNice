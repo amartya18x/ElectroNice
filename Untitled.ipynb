{
 "cells": [
  {
   "cell_type": "code",
   "execution_count": 1,
   "metadata": {
    "collapsed": true
   },
   "outputs": [],
   "source": [
    "import theano\n",
    "import theano.tensor as T\n",
    "import numpy as np\n",
    "from model import NiceACDC\n",
    "import cPickle\n",
    "import gzip\n",
    "import os\n",
    "import sys\n",
    "import timeit\n",
    "inp = T.vector(\"inp\")\n",
    "n_in = 784\n",
    "lr = theano.shared(0.0001)\n",
    "theano.config.floatX = 'float32'\n",
    "\n"
   ]
  },
  {
   "cell_type": "code",
   "execution_count": 2,
   "metadata": {
    "collapsed": true
   },
   "outputs": [],
   "source": [
    "\n",
    "\n",
    "dataset='mnist.pkl.gz'\n",
    "f = gzip.open(dataset, 'rb')\n",
    "train_set, valid_set, test_set = cPickle.load(f)\n",
    "f.close()"
   ]
  },
  {
   "cell_type": "code",
   "execution_count": 3,
   "metadata": {
    "collapsed": false
   },
   "outputs": [
    {
     "name": "stdout",
     "output_type": "stream",
     "text": [
      "... building the model\n",
      "Created model\n",
      "Obtained Grads\n",
      "Created updates\n"
     ]
    }
   ],
   "source": [
    "    learning_rate=0.13\n",
    "    n_epochs=1000\n",
    "    dataset='mnist.pkl.gz'\n",
    "\n",
    "    \n",
    "    ######################\n",
    "    # BUILD ACTUAL MODEL #\n",
    "    ######################\n",
    "    print '... building the model'\n",
    "\n",
    "    # allocate symbolic variables for the data\n",
    "    index = T.lscalar()  # index to a [mini]batch\n",
    "\n",
    "    # generate symbolic variables for input (x and y represent a\n",
    "    # minibatch)\n",
    "    x = T.vector('x')  \n",
    "    # construct the logistic regression class\n",
    "    # Each MNIST image has size 28*28\n",
    "    ANice = NiceACDC(input = x, n_in = n_in)\n",
    "    print \"Created model\"\n",
    "    llh = ANice.cost\n",
    "    output = ANice.output\n",
    "    NiceParam  = ANice.params\n",
    "    grads = ANice.grad\n",
    "    update = []\n",
    "    print \"Obtained Grads\"\n",
    "    for param,grad in zip(NiceParam,grads):\n",
    "        update.append((param,param+grad*lr))\n",
    "\n",
    "    print \"Created updates\""
   ]
  },
  {
   "cell_type": "code",
   "execution_count": 4,
   "metadata": {
    "collapsed": false
   },
   "outputs": [],
   "source": [
    "\n",
    "train_model = theano.function(\n",
    "        inputs=[x],\n",
    "        outputs=[ANice.newLogDet,ANice.prior,ANice.cost],\n",
    "    updates=update\n",
    "        )"
   ]
  },
  {
   "cell_type": "code",
   "execution_count": 5,
   "metadata": {
    "collapsed": false
   },
   "outputs": [],
   "source": [
    "train_set_x, train_set_y = train_set\n",
    "\n",
    "p = len(train_set_x)"
   ]
  },
  {
   "cell_type": "code",
   "execution_count": null,
   "metadata": {
    "collapsed": false
   },
   "outputs": [
    {
     "name": "stdout",
     "output_type": "stream",
     "text": [
      "[array(-2437.5647982344517), array(-1087.0418642943223), array(-3524.606662528774)]\n",
      "[array(-2500.1901597693645), array(-1093.6725488060893), array(-3593.862708575454)]\n",
      "[array(-2459.6225260539168), array(-1092.028696033499), array(-3551.6512220874156)]\n",
      "[array(-2349.545377193503), array(-1089.4834716313458), array(-3439.0288488248493)]\n",
      "[array(-2428.666231627347), array(-1096.2685327846034), array(-3524.9347644119503)]\n",
      "[array(-2362.6046976419443), array(-1088.2581551206379), array(-3450.862852762582)]\n",
      "[array(-2428.1613985973527), array(-1090.8390934665213), array(-3519.000492063874)]\n",
      "[array(-2531.938200532811), array(-1092.3754956927307), array(-3624.3136962255417)]\n",
      "[array(-2368.1287464934003), array(-1089.6161062960443), array(-3457.744852789444)]\n",
      "[array(-2248.390654811473), array(-1087.963379521721), array(-3336.3540343331933)]"
     ]
    }
   ],
   "source": [
    "for s in range(1,200000):\n",
    "    a= train_set_x[s%p]\n",
    "    b = a/784\n",
    "    cost =  train_model(b)\n",
    "    if s%50 == 0:\n",
    "        print cost"
   ]
  },
  {
   "cell_type": "code",
   "execution_count": null,
   "metadata": {
    "collapsed": false
   },
   "outputs": [],
   "source": [
    "a= train_set_x[1]\n",
    "b = (a*2)-1\n",
    "d,e = train_model(b)\n",
    "print d,e"
   ]
  },
  {
   "cell_type": "code",
   "execution_count": null,
   "metadata": {
    "collapsed": false
   },
   "outputs": [],
   "source": [
    "print T.mean(ANice.layer1.A).eval()\n",
    "print T.mean(ANice.layer1.A).eval()\n",
    "print T.min(ANice.layer1.A).eval()\n",
    "print T.min(T.tanh(ANice.layer1.A)).eval()\n",
    "print T.max(T.nnet.sigmoid(ANice.layer1.A)).eval()\n",
    "print T.max(T.tanh(ANice.layer1.A)).eval()"
   ]
  },
  {
   "cell_type": "code",
   "execution_count": null,
   "metadata": {
    "collapsed": false
   },
   "outputs": [],
   "source": [
    "\n"
   ]
  },
  {
   "cell_type": "code",
   "execution_count": null,
   "metadata": {
    "collapsed": true
   },
   "outputs": [],
   "source": []
  }
 ],
 "metadata": {
  "kernelspec": {
   "display_name": "Python 2",
   "language": "python",
   "name": "python2"
  },
  "language_info": {
   "codemirror_mode": {
    "name": "ipython",
    "version": 2
   },
   "file_extension": ".py",
   "mimetype": "text/x-python",
   "name": "python",
   "nbconvert_exporter": "python",
   "pygments_lexer": "ipython2",
   "version": "2.7.11"
  }
 },
 "nbformat": 4,
 "nbformat_minor": 0
}
