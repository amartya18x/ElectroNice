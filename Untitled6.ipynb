{
 "cells": [
  {
   "cell_type": "code",
   "execution_count": null,
   "metadata": {
    "collapsed": false
   },
   "outputs": [],
   "source": [
    "import theano\n",
    "import theano.tensor as T\n",
    "import numpy as np\n",
    "from test_model_s import NiceACDC\n",
    "import cPickle\n",
    "import gzip\n",
    "import os\n",
    "import sys\n",
    "import timeit\n",
    "import matplotlib.pyplot as plt\n",
    "inp = T.matrix(\"inp\")\n",
    "n_in = 784\n",
    "lr = theano.shared(0.0001)\n",
    "theano.config.floatX = 'float32'\n",
    "\n",
    "dataset='mnist.pkl.gz'\n",
    "f = gzip.open(dataset, 'rb')\n",
    "train_set, valid_set, test_set = cPickle.load(f)\n",
    "f.close()\n",
    "\n",
    "f = open('best_model.pkl')\n",
    "param = cPickle.load(f)\n",
    "f.close()\n",
    "print '... building the model'\n",
    "x = T.matrix('x')\n",
    "ANice = NiceACDC(input = x, n_in = n_in,params=param,num_layer=30)\n",
    "print \"Created model\"\n",
    "\n",
    "test_model = theano.function(\n",
    "        inputs=[x],\n",
    "        outputs=[ANice.newLogDet,ANice.prior,ANice.cost,ANice.expr,ANice.reconstruction_err,ANice.output]\n",
    "        )\n",
    "print \"built function\"\n",
    "test_set_x, test_set_y = test_set\n",
    "p = len(test_set_x)\n",
    "batch_size = 1\n",
    "n_batches = p/batch_size\n",
    "s = -1\n",
    "llh = -np.inf"
   ]
  },
  {
   "cell_type": "code",
   "execution_count": null,
   "metadata": {
    "collapsed": false
   },
   "outputs": [],
   "source": [
    "len(param)"
   ]
  },
  {
   "cell_type": "code",
   "execution_count": null,
   "metadata": {
    "collapsed": false
   },
   "outputs": [],
   "source": [
    "param[114].eval()"
   ]
  },
  {
   "cell_type": "code",
   "execution_count": null,
   "metadata": {
    "collapsed": true
   },
   "outputs": [],
   "source": []
  }
 ],
 "metadata": {
  "kernelspec": {
   "display_name": "Python 2",
   "language": "python",
   "name": "python2"
  },
  "language_info": {
   "codemirror_mode": {
    "name": "ipython",
    "version": 2
   },
   "file_extension": ".py",
   "mimetype": "text/x-python",
   "name": "python",
   "nbconvert_exporter": "python",
   "pygments_lexer": "ipython2",
   "version": "2.7.11"
  }
 },
 "nbformat": 4,
 "nbformat_minor": 0
}
