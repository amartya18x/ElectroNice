{
 "cells": [
  {
   "cell_type": "code",
   "execution_count": 1,
   "metadata": {
    "collapsed": true
   },
   "outputs": [],
   "source": [
    "import theano\n",
    "import theano.tensor as T\n",
    "import numpy as np\n",
    "from model import NiceACDC\n",
    "import cPickle\n",
    "import gzip\n",
    "import os\n",
    "import sys\n",
    "import timeit\n",
    "inp = T.vector(\"inp\")\n",
    "n_in = 784\n",
    "lr = theano.shared(0.0001)\n",
    "theano.config.floatX = 'float32'\n",
    "\n"
   ]
  },
  {
   "cell_type": "code",
   "execution_count": 2,
   "metadata": {
    "collapsed": true
   },
   "outputs": [],
   "source": [
    "\n",
    "\n",
    "dataset='mnist.pkl.gz'\n",
    "f = gzip.open(dataset, 'rb')\n",
    "train_set, valid_set, test_set = cPickle.load(f)\n",
    "f.close()"
   ]
  },
  {
   "cell_type": "code",
   "execution_count": 3,
   "metadata": {
    "collapsed": false
   },
   "outputs": [
    {
     "name": "stdout",
     "output_type": "stream",
     "text": [
      "... building the model\n",
      "Created model\n",
      "Obtained Grads\n",
      "Created updates\n"
     ]
    }
   ],
   "source": [
    "    learning_rate=0.13\n",
    "    n_epochs=1000\n",
    "    dataset='mnist.pkl.gz'\n",
    "\n",
    "    \n",
    "    ######################\n",
    "    # BUILD ACTUAL MODEL #\n",
    "    ######################\n",
    "    print '... building the model'\n",
    "\n",
    "    # allocate symbolic variables for the data\n",
    "    index = T.lscalar()  # index to a [mini]batch\n",
    "\n",
    "    # generate symbolic variables for input (x and y represent a\n",
    "    # minibatch)\n",
    "    x = T.vector('x')  \n",
    "    # construct the logistic regression class\n",
    "    # Each MNIST image has size 28*28\n",
    "    ANice = NiceACDC(input = x, n_in = n_in)\n",
    "    print \"Created model\"\n",
    "    llh = ANice.cost\n",
    "    output = ANice.output\n",
    "    NiceParam  = ANice.params\n",
    "    grads = ANice.grad\n",
    "    update = []\n",
    "    print \"Obtained Grads\"\n",
    "    for param,grad in zip(NiceParam,grads):\n",
    "        update.append((param,param+grad*lr))\n",
    "\n",
    "    print \"Created updates\""
   ]
  },
  {
   "cell_type": "code",
   "execution_count": 4,
   "metadata": {
    "collapsed": false
   },
   "outputs": [],
   "source": [
    "\n",
    "train_model = theano.function(\n",
    "        inputs=[x],\n",
    "        outputs=[ANice.newLogDet,ANice.prior,ANice.cost],\n",
    "    updates=update\n",
    "        )"
   ]
  },
  {
   "cell_type": "code",
   "execution_count": 5,
   "metadata": {
    "collapsed": false
   },
   "outputs": [],
   "source": [
    "train_set_x, train_set_y = train_set\n",
    "\n",
    "p = len(train_set_x)"
   ]
  },
  {
   "cell_type": "code",
   "execution_count": null,
   "metadata": {
    "collapsed": false
   },
   "outputs": [
    {
     "name": "stdout",
     "output_type": "stream",
     "text": [
      "[array(-2354.228671463292), array(-1086.8951891308527), array(-3441.1238605941444)]\n",
      "[array(-2488.4824167068273), array(-1088.541985326246), array(-3577.024402033073)]\n",
      "[array(-2543.194890940459), array(-1107.7367462790512), array(-3650.9316372195103)]\n",
      "[array(-2337.06099663424), array(-1088.5363232500285), array(-3425.5973198842685)]\n",
      "[array(-2420.209195323104), array(-1091.421949759906), array(-3511.63114508301)]\n",
      "[array(-2219.1612376287467), array(-1087.4334046245426), array(-3306.5946422532893)]\n",
      "[array(-2263.8822658584136), array(-1088.183825707808), array(-3352.0660915662215)]\n",
      "[array(-2524.5131279561633), array(-1099.9004011181623), array(-3624.413529074325)]\n",
      "[array(-2373.2169386286223), array(-1091.6940037196048), array(-3464.910942348227)]\n",
      "[array(-2273.189859753197), array(-1086.869766441075), array(-3360.059626194272)]\n",
      "[array(-2668.165870015974), array(-1095.810157383068), array(-3763.9760273990423)]\n",
      "[array(-2373.331033805587), array(-1091.9824268170946), array(-3465.313460622682)]\n",
      "[array(-2300.259546870678), array(-1090.3369591280987), array(-3390.596505998776)]\n",
      "[array(-2311.539522006707), array(-1087.5407715220633), array(-3399.0802935287707)]\n",
      "[array(-2282.7741590077385), array(-1087.2762448377978), array(-3370.0504038455356)]\n",
      "[array(-2350.874352492882), array(-1097.5533207903934), array(-3448.4276732832755)]\n",
      "[array(-2304.2059460284286), array(-1091.0506817477024), array(-3395.256627776131)]"
     ]
    }
   ],
   "source": [
    "for s in range(1,200000):\n",
    "    a= train_set_x[s%p]\n",
    "    b = a/784\n",
    "    cost =  train_model(b)\n",
    "    if s%50 == 0:\n",
    "        print cost"
   ]
  },
  {
   "cell_type": "code",
   "execution_count": null,
   "metadata": {
    "collapsed": false
   },
   "outputs": [],
   "source": [
    "a= train_set_x[1]\n",
    "b = (a*2)-1\n",
    "d,e = train_model(b)\n",
    "print d,e"
   ]
  },
  {
   "cell_type": "code",
   "execution_count": null,
   "metadata": {
    "collapsed": false
   },
   "outputs": [],
   "source": [
    "print T.mean(ANice.layer1.A).eval()\n",
    "print T.mean(ANice.layer1.A).eval()\n",
    "print T.min(ANice.layer1.A).eval()\n",
    "print T.min(T.tanh(ANice.layer1.A)).eval()\n",
    "print T.max(T.nnet.sigmoid(ANice.layer1.A)).eval()\n",
    "print T.max(T.tanh(ANice.layer1.A)).eval()"
   ]
  },
  {
   "cell_type": "code",
   "execution_count": null,
   "metadata": {
    "collapsed": false
   },
   "outputs": [],
   "source": [
    "\n"
   ]
  },
  {
   "cell_type": "code",
   "execution_count": null,
   "metadata": {
    "collapsed": true
   },
   "outputs": [],
   "source": []
  }
 ],
 "metadata": {
  "kernelspec": {
   "display_name": "Python 2",
   "language": "python",
   "name": "python2"
  },
  "language_info": {
   "codemirror_mode": {
    "name": "ipython",
    "version": 2
   },
   "file_extension": ".py",
   "mimetype": "text/x-python",
   "name": "python",
   "nbconvert_exporter": "python",
   "pygments_lexer": "ipython2",
   "version": "2.7.11"
  }
 },
 "nbformat": 4,
 "nbformat_minor": 0
}
